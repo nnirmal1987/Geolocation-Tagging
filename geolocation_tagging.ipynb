{
  "nbformat": 4,
  "nbformat_minor": 0,
  "metadata": {
    "kernelspec": {
      "name": "python3",
      "display_name": "Python 3"
    },
    "language_info": {
      "codemirror_mode": {
        "name": "ipython",
        "version": 3
      },
      "file_extension": ".py",
      "mimetype": "text/x-python",
      "name": "python",
      "nbconvert_exporter": "python",
      "pygments_lexer": "ipython3",
      "version": "3.6.4"
    },
    "colab": {
      "name": "Machine_Learning_Engineer_TT.ipynb",
      "provenance": [],
      "collapsed_sections": [
        "URD6DkteKlgJ",
        "qf-k64eXKlgP"
      ],
      "toc_visible": true
    },
    "accelerator": "GPU"
  },
  "cells": [
    {
      "cell_type": "markdown",
      "metadata": {
        "id": "URD6DkteKlgJ",
        "colab_type": "text"
      },
      "source": [
        "## Guidelines\n",
        "Please complete the assignment inside this notebook. Make sure the code can be executed easily.\n",
        "\n",
        "- For question 1 and 2, \n",
        "    - write production-ready code using OOP when relevant.\n",
        "    - create simple unit tests for your code where applicable.\n",
        "    - add comments and documentation strings for important methods. \n",
        "    - discuss your design choices and discuss the complexity (Big O notation) of your solutions, both memory wise and performance wise. Provide map visualization when relevant\n",
        "    - Try to stick to the most popular scientific Python libraries.\n",
        "    - Use the provided csv files.\n",
        "- For question 2, use map vizualisastion\n",
        "- For question 3, no code implementation is needed"
      ]
    },
    {
      "cell_type": "markdown",
      "metadata": {
        "id": "qf-k64eXKlgP",
        "colab_type": "text"
      },
      "source": [
        "## Input data for Q1 and Q2\n",
        "You should have received three csv files. Each csv-file represents the locations where a person was stationary for a certain amount of time. \n",
        "The csv-files contain the following fields:\n",
        "\n",
        "- Latitude: The latitude of the detected GPS coordinates Longitude: The longitude of the detected GPS coordinates\n",
        "- Timestamp: The start time of the stationary in the following format:\n",
        "    - YYYY = year\n",
        "    - MM = month of year\n",
        "    - dd = day of month\n",
        "    - HH=hourofday\n",
        "    - mm = minute of hour\n",
        "    - Z = timezone offset\n",
        "- Duration: The length of time the person was stationary (in milliseconds)\n",
        "    \n",
        "Questions 1 and 2 in this assignment are related to this data."
      ]
    },
    {
      "cell_type": "markdown",
      "metadata": {
        "id": "KDcfZ3N5KlgX",
        "colab_type": "text"
      },
      "source": [
        "## Question 1: Data lookup\n",
        "Create a method that generates a lookup table allowing us to effiently check whether or not a user has ever visited a location even if the new location is not exactly the same as the visited location (some noise is added to the longitude/latitude pairs). Data to be used are in the provided csv files."
      ]
    },
    {
      "cell_type": "code",
      "metadata": {
        "id": "2kBVnvcpK2Cz",
        "colab_type": "code",
        "colab": {
          "base_uri": "https://localhost:8080/",
          "height": 241
        },
        "outputId": "81e53a0c-0aa6-4a86-d129-bcc7ee4f0c86"
      },
      "source": [
        "pip install reverse_geocoder\n"
      ],
      "execution_count": 1,
      "outputs": [
        {
          "output_type": "stream",
          "text": [
            "Collecting reverse_geocoder\n",
            "\u001b[?25l  Downloading https://files.pythonhosted.org/packages/0b/0f/b7d5d4b36553731f11983e19e1813a1059ad0732c5162c01b3220c927d31/reverse_geocoder-1.5.1.tar.gz (2.2MB)\n",
            "\u001b[K     |████████████████████████████████| 2.3MB 6.6MB/s \n",
            "\u001b[?25hRequirement already satisfied: numpy>=1.11.0 in /usr/local/lib/python3.6/dist-packages (from reverse_geocoder) (1.16.5)\n",
            "Requirement already satisfied: scipy>=0.17.1 in /usr/local/lib/python3.6/dist-packages (from reverse_geocoder) (1.3.1)\n",
            "Building wheels for collected packages: reverse-geocoder\n",
            "  Building wheel for reverse-geocoder (setup.py) ... \u001b[?25l\u001b[?25hdone\n",
            "  Created wheel for reverse-geocoder: filename=reverse_geocoder-1.5.1-cp36-none-any.whl size=2268090 sha256=1239d94a22374f5d4b71b3bbc3564f7babce345c92971118976d0c858207169b\n",
            "  Stored in directory: /root/.cache/pip/wheels/47/05/50/b1350ff094ef91e082665b4a2f9ca551f8acea4aa55d796b26\n",
            "Successfully built reverse-geocoder\n",
            "Installing collected packages: reverse-geocoder\n",
            "Successfully installed reverse-geocoder-1.5.1\n"
          ],
          "name": "stdout"
        }
      ]
    },
    {
      "cell_type": "code",
      "metadata": {
        "id": "I9cLRWb2MJjq",
        "colab_type": "code",
        "colab": {}
      },
      "source": [
        "   # Import statements \n",
        "\n",
        "import numpy as np\n",
        "import pandas as pd\n",
        "import reverse_geocoder as rg \n",
        "#import unittest"
      ],
      "execution_count": 0,
      "outputs": []
    },
    {
      "cell_type": "code",
      "metadata": {
        "id": "PI02AiEnK6Me",
        "colab_type": "code",
        "colab": {}
      },
      "source": [
        "   # Read input csv and create dataframe for each user. Provide location path correspondingly\n",
        "\n",
        "person1= pd.read_csv(\"/content/person1.csv\",sep=';')\n",
        "person2= pd.read_csv(\"/content/person2.csv\",sep=';')\n",
        "person3= pd.read_csv(\"/content/person3.csv\",sep=';')"
      ],
      "execution_count": 0,
      "outputs": []
    },
    {
      "cell_type": "code",
      "metadata": {
        "id": "tWGMMOk-LE62",
        "colab_type": "code",
        "colab": {}
      },
      "source": [
        "    # Create additional column combining latitude and longitude for using as input for reverse geocoder\n",
        "\n",
        "person1[\"lat-long\"]=list(zip(person1.latitude,person1.longitude))\n",
        "person2[\"lat-long\"]=list(zip(person2.latitude,person2.longitude))\n",
        "person3[\"lat-long\"]=list(zip(person3.latitude,person3.longitude))"
      ],
      "execution_count": 0,
      "outputs": []
    },
    {
      "cell_type": "code",
      "metadata": {
        "id": "StbboqdZRRXo",
        "colab_type": "code",
        "colab": {}
      },
      "source": [
        "     # Create class person and declare methods \n",
        "\n",
        "class person:\n",
        "  \n",
        "     # Constructor of class person and initialise the corresponding persons dataframe\n",
        "    \n",
        "    def __init__(self,my_dataframe):\n",
        "      self.my_dataframe=my_dataframe\n",
        "      \n",
        "     # Method for fetching the location details( Province, City and Country ) based on \n",
        "     # the latitude and longitude using the reverse geocoder pacakge. The result from \n",
        "     # geocoder api would be a dictionary of location specific details, which is further\n",
        "     # traversed to fetch individual values using the prov_city_count function. The obtained \n",
        "     # location parameters for each lat,long is further appened to individual lists. \n",
        "      \n",
        "    def fetch_province_city_country(self):\n",
        "      provincefinal,cityfinal,countryfinal=[],[],[]\n",
        "      for i in range (len(self.my_dataframe['lat-long'])):\n",
        "          result = rg.search(self.my_dataframe[\"lat-long\"][i]) \n",
        "          province,city,country=self.prov_city_count(result)    \n",
        "          provincefinal.extend(province)\n",
        "          cityfinal.extend(city)\n",
        "          countryfinal.extend(country)\n",
        "      self.append_prov_city_count(provincefinal,cityfinal,countryfinal)\n",
        "      \n",
        "     # Fetch location parameters ,[Province-name, City-admin1 and Country-cc} for each latitude\n",
        "     # and longitude values as received from the reverse geocoder reponse\n",
        "    \n",
        "    def prov_city_count(self,result):\n",
        "      province,city,country=[],[],[]\n",
        "      for j in result: \n",
        "          province.append(j['name'])\n",
        "          city.append(j['admin1'])\n",
        "          country.append(j['cc'])\n",
        "      return(province,city,country) \n",
        "    \n",
        "     # The returned list of parameters are updated as new columns to the repective input users dataframe\n",
        "          \n",
        "    def append_prov_city_count(self,provincefinal,cityfinal,countryfinal):\n",
        "          self.my_dataframe['province']=provincefinal\n",
        "          self.my_dataframe['city']=cityfinal\n",
        "          self.my_dataframe['country']=countryfinal\n",
        "             \n",
        "     # Function to create and display the lookup table as dictionary of country -> 'province,city' values for each user.\n",
        "     # The output will display both dataframe and dictionary grouped by country. Province and city combination for\n",
        "     # each user location is displayed. First column is provinceand column header being countries. \n",
        "     #  AR-Argentina, BE- Belgium NL- Netherlands\n",
        "              \n",
        "    def lookup_dictionary(self):\n",
        "          person_lookup=self.my_dataframe.groupby('country').apply(lambda x: dict(zip(x['province'],x['city']))).to_dict()\n",
        "          person_location=pd.DataFrame.from_dict(person_lookup)\n",
        "          print(person_location)\n",
        "          # Fetching the name of the dataframe for display purpose\n",
        "          name=[x for x in globals() if globals()[x] is self.my_dataframe][0]\n",
        "          print(name,person_lookup) \n",
        "        \n",
        "   "
      ],
      "execution_count": 0,
      "outputs": []
    },
    {
      "cell_type": "code",
      "metadata": {
        "id": "aSsdOWqPX-N8",
        "colab_type": "code",
        "colab": {}
      },
      "source": [
        "# Main function to create 3 objects for each user and display their lookup table as a dictionary\n",
        "\n",
        "if __name__ == '__main__':\n",
        "  first_person=person(person1)\n",
        "  first_person.fetch_province_city_country()\n",
        "  first_person.lookup_dictionary()\n",
        "  second_person=person(person2)\n",
        "  second_person.fetch_province_city_country()\n",
        "  second_person.lookup_dictionary()\n",
        "  third_person=person(person3)\n",
        "  third_person.fetch_province_city_country()\n",
        "  third_person.lookup_dictionary()\n"
      ],
      "execution_count": 0,
      "outputs": []
    },
    {
      "cell_type": "code",
      "metadata": {
        "id": "HopeVRK1WqdJ",
        "colab_type": "code",
        "colab": {}
      },
      "source": [
        "#Testing the reverse geocoder prov_city_count function\n",
        "\n",
        "def prov_city_count(result):\n",
        "      province,city,country=[],[],[]\n",
        "      for j in result: \n",
        "          province.append(j['name'])\n",
        "          city.append(j['admin1'])\n",
        "          country.append(j['cc'])\n",
        "      return(province,city,country) \n",
        "\n",
        "result = rg.search(person2[\"lat-long\"][30])\n",
        "print(\"Before testing reverse geocode function location parameters\")\n",
        "print (result)\n",
        "province,city,country=prov_city_count(result) \n",
        "print (province,city,country)\n",
        "print(\" After comparing the dictionary value and individual values for equality \")   \n"
      ],
      "execution_count": 0,
      "outputs": []
    },
    {
      "cell_type": "code",
      "metadata": {
        "id": "0SFb3W6cwrOj",
        "colab_type": "code",
        "colab": {}
      },
      "source": [
        "for i in range (len(person3['lat-long'])):\n",
        "          result = rg.search(person3[\"lat-long\"][i]) \n",
        "          print(result)"
      ],
      "execution_count": 0,
      "outputs": []
    },
    {
      "cell_type": "markdown",
      "metadata": {
        "id": "cG7L_LxGKlgb",
        "colab_type": "text"
      },
      "source": [
        "## Question 2: Home and work detection\n",
        "The goal of this question, is to design and implement an algorithm that allows us to distinguish the likely home locations of a user from his likely work locations.\n",
        "\n",
        "Note that a person might have multiple home and work locations, or might not have a work location at all. Also note that the data might be noise, incorrect and/or incomplete.\n",
        "\n",
        "Discuss your choice of algorithms, rules, methods, distance measures, etc.\n",
        "\n",
        "Data to be used are in the provided csv files."
      ]
    },
    {
      "cell_type": "code",
      "metadata": {
        "id": "sNMvgDUbCxM6",
        "colab_type": "code",
        "colab": {}
      },
      "source": [
        "!pip install geopandas\n",
        "!pip install gmplot"
      ],
      "execution_count": 0,
      "outputs": []
    },
    {
      "cell_type": "code",
      "metadata": {
        "id": "82wal4TzDitH",
        "colab_type": "code",
        "colab": {}
      },
      "source": [
        "import geopandas as gpd\n",
        "import matplotlib.pyplot as plt\n",
        "import matplotlib as mpl\n",
        "from shapely.geometry import Point, Polygon\n",
        "from geopandas import GeoDataFrame\n",
        "import descartes\n",
        "import gmplot \n",
        "import time\n",
        "from datetime import datetime\n"
      ],
      "execution_count": 0,
      "outputs": []
    },
    {
      "cell_type": "code",
      "metadata": {
        "id": "_sBHYhgZFEim",
        "colab_type": "code",
        "colab": {}
      },
      "source": [
        ""
      ],
      "execution_count": 0,
      "outputs": []
    },
    {
      "cell_type": "code",
      "metadata": {
        "id": "rtuB-nhihxpT",
        "colab_type": "code",
        "colab": {}
      },
      "source": [
        "    # Class derieved from parent person class\n",
        "  \n",
        "class person_loc_plot(person):\n",
        "  \n",
        "    def __init__(self,my_dataframe):\n",
        "        self.my_dataframe=my_dataframe\n",
        "\n",
        "    # Plot the lat, long points on the 'naturalearth_lowres' map data\n",
        "    \n",
        "    def plot_geodataframe(self):\n",
        "        world = gpd.read_file(gpd.datasets.get_path('naturalearth_lowres'))\n",
        "        world = world[world.name != 'Antarctica']\n",
        "        world= world[world.name!='Australia']\n",
        "        geometry = [Point(xy) for xy in zip(self.my_dataframe['longitude'], self.my_dataframe['latitude'])]\n",
        "        crs = {'init': 'epsg:4326'}\n",
        "        gdf = gpd.GeoDataFrame(self.my_dataframe, crs=crs, geometry=geometry)\n",
        "        gdf.plot(ax=world.plot(figsize=(10,10)),marker='*', markersize=15,color='red')\n",
        "        gdf.plot(marker='*', markersize=10,figsize=(10,10))\n",
        "     \n",
        "    \n",
        "    # Prediction house work couldnt implemented fully\n",
        "    def house_work(self):\n",
        "        unique_country_list=self.my_dataframe['country'].unique().tolist()\n",
        "        for val in unique_country_list:\n",
        "              likelyhouse= max(self.my_dataframe['duration(ms)'])\n",
        "              print(likelyhouse)"
      ],
      "execution_count": 0,
      "outputs": []
    },
    {
      "cell_type": "code",
      "metadata": {
        "id": "mAi6XKDSFwKf",
        "colab_type": "code",
        "colab": {
          "base_uri": "https://localhost:8080/",
          "height": 897
        },
        "outputId": "bb0237e7-1429-442b-e367-8db7a2218c2e"
      },
      "source": [
        "\n",
        "if __name__ == '__main__':\n",
        "      first_person=person_loc_plot(person1)\n",
        "      first_person.plot_geodataframe()\n",
        "      first_person.house_work()\n",
        "      second_person=person_loc_plot(person2)\n",
        "      second_person.plot_geodataframe()\n",
        "      second_person.house_work()\n",
        "      third_person=person_loc_plot(person3)\n",
        "      third_person.plot_geodataframe()\n",
        "      third_person.house_work()"
      ],
      "execution_count": 75,
      "outputs": [
        {
          "output_type": "stream",
          "text": [
            "129017407\n",
            "129017407\n",
            "129017407\n"
          ],
          "name": "stdout"
        },
        {
          "output_type": "display_data",
          "data": {
            "image/png": "[encoded data removed]",
            "text/plain": [
              "<Figure size 720x720 with 1 Axes>"
            ]
          },
          "metadata": {
            "tags": []
          }
        },
        {
          "output_type": "display_data",
          "data": {
            "image/png": "[encoded data removed]",
            "text/plain": [
              "<Figure size 720x720 with 1 Axes>"
            ]
          },
          "metadata": {
            "tags": []
          }
        }
      ]
    },
    {
      "cell_type": "code",
      "metadata": {
        "id": "ZEErbzl2jnwO",
        "colab_type": "code",
        "colab": {}
      },
      "source": [
        " # Sample testing the geodataframe plot with naturalearth_lowres\n",
        "gdf = GeoDataFrame(person1, geometry=geometry) \n",
        "world = gpd.read_file(gpd.datasets.get_path('naturalearth_lowres'))\n",
        "gdf.plot(ax=world.plot(figsize=(10, 6)), marker='o', color='red', markersize=15)"
      ],
      "execution_count": 0,
      "outputs": []
    },
    {
      "cell_type": "code",
      "metadata": {
        "id": "W4erIN0YCWot",
        "colab_type": "code",
        "colab": {}
      },
      "source": [
        "# Trial \n",
        "from sklearn.cluster import DBSCAN"
      ],
      "execution_count": 0,
      "outputs": []
    },
    {
      "cell_type": "code",
      "metadata": {
        "id": "DyJGIACnH3j8",
        "colab_type": "code",
        "colab": {
          "base_uri": "https://localhost:8080/",
          "height": 71
        },
        "outputId": "8a5b3536-09d7-4ca5-9ea9-c92c90baeed2"
      },
      "source": [
        "# Trial DBSCAN for clustering and rejectig outliers as not home and work - Not completed fuly\n",
        "coords = person1.as_matrix(columns=['latitude', 'longitude'])\n",
        "db = DBSCAN(eps=0.3, min_samples=5, algorithm='ball_tree', metric='haversine').fit(np.radians(coords))\n"
      ],
      "execution_count": 90,
      "outputs": [
        {
          "output_type": "stream",
          "text": [
            "/usr/local/lib/python3.6/dist-packages/ipykernel_launcher.py:1: FutureWarning: Method .as_matrix will be removed in a future version. Use .values instead.\n",
            "  \"\"\"Entry point for launching an IPython kernel.\n"
          ],
          "name": "stderr"
        }
      ]
    },
    {
      "cell_type": "code",
      "metadata": {
        "id": "TaP5XcrNJq4D",
        "colab_type": "code",
        "colab": {
          "base_uri": "https://localhost:8080/",
          "height": 51
        },
        "outputId": "37a04d76-90e6-4ff0-9fc2-4ba7522ac82a"
      },
      "source": [
        ""
      ],
      "execution_count": 91,
      "outputs": [
        {
          "output_type": "execute_result",
          "data": {
            "text/plain": [
              "DBSCAN(algorithm='ball_tree', eps=0.3, leaf_size=30, metric='haversine',\n",
              "       metric_params=None, min_samples=5, n_jobs=None, p=None)"
            ]
          },
          "metadata": {
            "tags": []
          },
          "execution_count": 91
        }
      ]
    },
    {
      "cell_type": "markdown",
      "metadata": {
        "id": "OWVbbsYXKlgf",
        "colab_type": "text"
      },
      "source": [
        "## Question 3: Design a data refresh system\n",
        "Have a look at the Foursquare API, more specifically, the Venues search route at\n",
        "https://developer.foursquare.com/docs/venues/search\n",
        "Design a system that can receive a location fix (as a [latitude, longitude, accuracy] mobile GPS fix) and run\n",
        "an algorithm to find the actual venue a user has visited using Foursquare as a venues-database. The design\n",
        "should minimize the use of calls to the Foursquare API and include a way to refresh Foursquare results as\n",
        "data retrieved from Foursquare can only be kept for a maximum of 30 days.\n",
        "\n",
        "Keep in mind the definition of accuracy for a mobile GPS fix. Accuracy is represented in meter and means\n",
        "that there is a 68% probability that a user is within a radius of that amount of meter around the provided\n",
        "[latitude, longitude] coordinates. See Android docs:\n",
        "https://developer.android.com/reference/android/location/Location.html#getAccuracy()\n",
        "\n",
        "Additionally, visiting a place is highly unlikely to yield the exact same locations (again as [latitude, longitude]\n",
        "pairs) on consecutive visits. Small variations are to be expected.\n",
        "\n",
        "The goal of this assignment is to explain the software/systems design for this component. Please\n",
        "provide one or more diagrams and accompanying text.\n",
        "Note: The algorithm to map a location to a venue from a list of candidates can be considered as given.\n",
        "\n",
        "For bonus points: provide your ideas on what this algorithm could look like."
      ]
    },
    {
      "cell_type": "code",
      "metadata": {
        "id": "wbDNnA7_P1hl",
        "colab_type": "code",
        "colab": {}
      },
      "source": [
        "# Attached word document (Sentiance_Nirmal_Datarefresh.doc) and design diagram datafresh_design.ppt"
      ],
      "execution_count": 0,
      "outputs": []
    }
  ]
}